{
 "cells": [
  {
   "cell_type": "markdown",
   "metadata": {},
   "source": [
    "# Pra pemprosesan Data"
   ]
  },
  {
   "cell_type": "markdown",
   "metadata": {},
   "source": [
    "\n",
    "\n",
    "Pada tahap ini, kita akan melakukan pra pemprosesan data yang bersumber dari review pengguna aplikasi Tokopedia yang diambil dari Google Play. Tahapan pra pemprosesan data meliputi:\n",
    "\n",
    "1. **Pengumpulan Data**: Mengumpulkan data review dari Google Play menggunakan API atau metode scraping.\n",
    "2. **Pembersihan Data**: Menghapus data yang tidak relevan seperti review yang kosong, duplikat, atau review yang tidak berhubungan dengan aplikasi.\n",
    "3. **Normalisasi Teks**: Mengubah teks menjadi format yang konsisten, seperti mengubah semua huruf menjadi huruf kecil, menghapus tanda baca, dan menghapus karakter khusus.\n",
    "4. **Tokenisasi**: Memecah teks menjadi kata-kata atau token untuk memudahkan analisis lebih lanjut.\n",
    "5. **Penghapusan Stop Words**: Menghapus kata-kata umum yang tidak memiliki makna signifikan dalam analisis, seperti \"dan\", \"yang\", \"di\", dll.\n",
    "6. **Stemming/Lemmatization**: Mengubah kata-kata menjadi bentuk dasarnya untuk mengurangi variasi kata yang memiliki makna yang sama.\n",
    "7. **Transformasi Data**: Mengubah data teks menjadi representasi numerik yang dapat digunakan dalam model machine learning, seperti menggunakan teknik Bag of Words atau TF-IDF.\n",
    "\n",
    "Tahapan ini penting untuk memastikan data yang digunakan dalam analisis atau model machine learning memiliki kualitas yang baik dan relevan dengan tujuan analisis.\n",
    "```"
   ]
  },
  {
   "cell_type": "markdown",
   "metadata": {},
   "source": [
    "## Mengimpor Pustaka/Libry"
   ]
  },
  {
   "cell_type": "code",
   "execution_count": 7,
   "metadata": {},
   "outputs": [],
   "source": [
    "# Mengimpor pustaka google_play_scraper untuk mengakses ulasan dan informasi aplikasi dari Google Play Store.\n",
    "from google_play_scraper import app, reviews, Sort, reviews_all\n",
    "from google_play_scraper import app, reviews_all, Sort\n",
    "import csv\n",
    "import pandas as pd"
   ]
  },
  {
   "cell_type": "markdown",
   "metadata": {},
   "source": [
    "## Load Data"
   ]
  },
  {
   "cell_type": "markdown",
   "metadata": {},
   "source": [
    "### Sraping Data"
   ]
  },
  {
   "cell_type": "code",
   "execution_count": 2,
   "metadata": {},
   "outputs": [],
   "source": [
    "# Mengimpor pustaka google_play_scraper untuk mengakses ulasan dan informasi aplikasi dari Google Play Store.\n",
    "from google_play_scraper import app, reviews_all, Sort\n",
    "\n",
    "scrapreview = reviews_all(\n",
    "    'com.tokopedia.tkpd',          # ID aplikasi\n",
    "    lang='id',             # Bahasa ulasan (default: 'en')\n",
    "    country='id',          # Negara (default: 'us')\n",
    "    sort=Sort.MOST_RELEVANT, # Urutan ulasan (default: Sort.MOST_RELEVANT)\n",
    "    count=30000             # Jumlah maksimum ulasan yang ingin diambil\n",
    ")"
   ]
  },
  {
   "cell_type": "code",
   "execution_count": null,
   "metadata": {},
   "outputs": [],
   "source": [
    "# Menyimpan ulasan dalam file CSV\n",
    "with open('tokopedia_review', mode='w', newline='', encoding='utf-8') as file:\n",
    "    writer = csv.writer(file)\n",
    "    writer.writerow(['Ulasan'])  # Menulis header kolom\n",
    "    for review in scrapreview:\n",
    "        writer.writerow([review['content']])  # Menulis konten ulasan ke dalam file CSV"
   ]
  },
  {
   "cell_type": "code",
   "execution_count": 8,
   "metadata": {},
   "outputs": [],
   "source": [
    "ulasan_tokopedia_df = pd.DataFrame(scrapreview)\n",
    "ulasan_tokopedia_df.shape\n",
    "ulasan_tokopedia_df.head()\n",
    "ulasan_tokopedia_df.to_csv('tokopedia_review', index=False)"
   ]
  },
  {
   "cell_type": "code",
   "execution_count": 9,
   "metadata": {},
   "outputs": [],
   "source": [
    "# Membuat DataFrame dari hasil scrapreview\n",
    "ulasan_tokopedia_df = pd.DataFrame(scrapreview)\n",
    "\n",
    "# Menghitung jumlah baris dan kolom dalam DataFrame\n",
    "jumlah_ulasan, jumlah_kolom = ulasan_tokopedia_df.shape"
   ]
  },
  {
   "cell_type": "code",
   "execution_count": 10,
   "metadata": {},
   "outputs": [
    {
     "data": {
      "text/html": [
       "<div>\n",
       "<style scoped>\n",
       "    .dataframe tbody tr th:only-of-type {\n",
       "        vertical-align: middle;\n",
       "    }\n",
       "\n",
       "    .dataframe tbody tr th {\n",
       "        vertical-align: top;\n",
       "    }\n",
       "\n",
       "    .dataframe thead th {\n",
       "        text-align: right;\n",
       "    }\n",
       "</style>\n",
       "<table border=\"1\" class=\"dataframe\">\n",
       "  <thead>\n",
       "    <tr style=\"text-align: right;\">\n",
       "      <th></th>\n",
       "      <th>reviewId</th>\n",
       "      <th>userName</th>\n",
       "      <th>userImage</th>\n",
       "      <th>content</th>\n",
       "      <th>score</th>\n",
       "      <th>thumbsUpCount</th>\n",
       "      <th>reviewCreatedVersion</th>\n",
       "      <th>at</th>\n",
       "      <th>replyContent</th>\n",
       "      <th>repliedAt</th>\n",
       "      <th>appVersion</th>\n",
       "    </tr>\n",
       "  </thead>\n",
       "  <tbody>\n",
       "    <tr>\n",
       "      <th>0</th>\n",
       "      <td>7327c7a5-5327-477e-a8e6-1db83d95f617</td>\n",
       "      <td>Pengguna Google</td>\n",
       "      <td>https://play-lh.googleusercontent.com/EGemoI2N...</td>\n",
       "      <td>Saya bener2 ngga suka sama yang namanya Kurir ...</td>\n",
       "      <td>2</td>\n",
       "      <td>8</td>\n",
       "      <td>3.296.0</td>\n",
       "      <td>2025-01-28 11:41:13</td>\n",
       "      <td>Halo Toppers, terima kasih atas rating yang ka...</td>\n",
       "      <td>2025-01-28 12:07:01</td>\n",
       "      <td>3.296.0</td>\n",
       "    </tr>\n",
       "    <tr>\n",
       "      <th>1</th>\n",
       "      <td>e5807bf6-509c-4a7d-8372-58db5f19786e</td>\n",
       "      <td>Pengguna Google</td>\n",
       "      <td>https://play-lh.googleusercontent.com/EGemoI2N...</td>\n",
       "      <td>menurut saya sih sejauh ini cukup praktis untu...</td>\n",
       "      <td>4</td>\n",
       "      <td>3</td>\n",
       "      <td>3.296.0</td>\n",
       "      <td>2025-01-26 17:54:26</td>\n",
       "      <td>Hi Toppers, terima kasih untuk rating dan ulas...</td>\n",
       "      <td>2025-01-26 18:27:03</td>\n",
       "      <td>3.296.0</td>\n",
       "    </tr>\n",
       "    <tr>\n",
       "      <th>2</th>\n",
       "      <td>cad387c2-bf0f-4886-98b9-74e985a5d894</td>\n",
       "      <td>Pengguna Google</td>\n",
       "      <td>https://play-lh.googleusercontent.com/EGemoI2N...</td>\n",
       "      <td>Tokopedia makin hari semakin tidak nyaman bagi...</td>\n",
       "      <td>1</td>\n",
       "      <td>5</td>\n",
       "      <td>3.295.0</td>\n",
       "      <td>2025-01-28 02:07:37</td>\n",
       "      <td>Hi Toppers, silakan sampaikan kritik/saran ata...</td>\n",
       "      <td>2025-01-28 02:20:09</td>\n",
       "      <td>3.295.0</td>\n",
       "    </tr>\n",
       "    <tr>\n",
       "      <th>3</th>\n",
       "      <td>b4e74fbb-e321-4c22-a068-e73b3e9c8531</td>\n",
       "      <td>Pengguna Google</td>\n",
       "      <td>https://play-lh.googleusercontent.com/EGemoI2N...</td>\n",
       "      <td>Gratis ongkirnya jadi ga bisa dipake, di produ...</td>\n",
       "      <td>1</td>\n",
       "      <td>5</td>\n",
       "      <td>3.296.0</td>\n",
       "      <td>2025-01-27 09:08:11</td>\n",
       "      <td>Halo Toppers, terima kasih atas rating yang ka...</td>\n",
       "      <td>2025-01-27 09:47:31</td>\n",
       "      <td>3.296.0</td>\n",
       "    </tr>\n",
       "    <tr>\n",
       "      <th>4</th>\n",
       "      <td>89cdc101-dfaa-4f9a-b14a-ee6cc342e138</td>\n",
       "      <td>Pengguna Google</td>\n",
       "      <td>https://play-lh.googleusercontent.com/EGemoI2N...</td>\n",
       "      <td>Baru pakai aplikasi dapat potongan harga, pesa...</td>\n",
       "      <td>1</td>\n",
       "      <td>120</td>\n",
       "      <td>3.295.0</td>\n",
       "      <td>2025-01-17 03:08:21</td>\n",
       "      <td>Hi Toppers, silakan sampaikan kritik/saran ata...</td>\n",
       "      <td>2025-01-17 03:47:06</td>\n",
       "      <td>3.295.0</td>\n",
       "    </tr>\n",
       "  </tbody>\n",
       "</table>\n",
       "</div>"
      ],
      "text/plain": [
       "                               reviewId         userName  \\\n",
       "0  7327c7a5-5327-477e-a8e6-1db83d95f617  Pengguna Google   \n",
       "1  e5807bf6-509c-4a7d-8372-58db5f19786e  Pengguna Google   \n",
       "2  cad387c2-bf0f-4886-98b9-74e985a5d894  Pengguna Google   \n",
       "3  b4e74fbb-e321-4c22-a068-e73b3e9c8531  Pengguna Google   \n",
       "4  89cdc101-dfaa-4f9a-b14a-ee6cc342e138  Pengguna Google   \n",
       "\n",
       "                                           userImage  \\\n",
       "0  https://play-lh.googleusercontent.com/EGemoI2N...   \n",
       "1  https://play-lh.googleusercontent.com/EGemoI2N...   \n",
       "2  https://play-lh.googleusercontent.com/EGemoI2N...   \n",
       "3  https://play-lh.googleusercontent.com/EGemoI2N...   \n",
       "4  https://play-lh.googleusercontent.com/EGemoI2N...   \n",
       "\n",
       "                                             content  score  thumbsUpCount  \\\n",
       "0  Saya bener2 ngga suka sama yang namanya Kurir ...      2              8   \n",
       "1  menurut saya sih sejauh ini cukup praktis untu...      4              3   \n",
       "2  Tokopedia makin hari semakin tidak nyaman bagi...      1              5   \n",
       "3  Gratis ongkirnya jadi ga bisa dipake, di produ...      1              5   \n",
       "4  Baru pakai aplikasi dapat potongan harga, pesa...      1            120   \n",
       "\n",
       "  reviewCreatedVersion                  at  \\\n",
       "0              3.296.0 2025-01-28 11:41:13   \n",
       "1              3.296.0 2025-01-26 17:54:26   \n",
       "2              3.295.0 2025-01-28 02:07:37   \n",
       "3              3.296.0 2025-01-27 09:08:11   \n",
       "4              3.295.0 2025-01-17 03:08:21   \n",
       "\n",
       "                                        replyContent           repliedAt  \\\n",
       "0  Halo Toppers, terima kasih atas rating yang ka... 2025-01-28 12:07:01   \n",
       "1  Hi Toppers, terima kasih untuk rating dan ulas... 2025-01-26 18:27:03   \n",
       "2  Hi Toppers, silakan sampaikan kritik/saran ata... 2025-01-28 02:20:09   \n",
       "3  Halo Toppers, terima kasih atas rating yang ka... 2025-01-27 09:47:31   \n",
       "4  Hi Toppers, silakan sampaikan kritik/saran ata... 2025-01-17 03:47:06   \n",
       "\n",
       "  appVersion  \n",
       "0    3.296.0  \n",
       "1    3.296.0  \n",
       "2    3.295.0  \n",
       "3    3.296.0  \n",
       "4    3.295.0  "
      ]
     },
     "execution_count": 10,
     "metadata": {},
     "output_type": "execute_result"
    }
   ],
   "source": [
    "ulasan_tokopedia_df.head()"
   ]
  },
  {
   "cell_type": "code",
   "execution_count": 11,
   "metadata": {},
   "outputs": [
    {
     "name": "stdout",
     "output_type": "stream",
     "text": [
      "<class 'pandas.core.frame.DataFrame'>\n",
      "RangeIndex: 103500 entries, 0 to 103499\n",
      "Data columns (total 11 columns):\n",
      " #   Column                Non-Null Count   Dtype         \n",
      "---  ------                --------------   -----         \n",
      " 0   reviewId              103500 non-null  object        \n",
      " 1   userName              103500 non-null  object        \n",
      " 2   userImage             103500 non-null  object        \n",
      " 3   content               103500 non-null  object        \n",
      " 4   score                 103500 non-null  int64         \n",
      " 5   thumbsUpCount         103500 non-null  int64         \n",
      " 6   reviewCreatedVersion  73988 non-null   object        \n",
      " 7   at                    103500 non-null  datetime64[ns]\n",
      " 8   replyContent          59522 non-null   object        \n",
      " 9   repliedAt             59522 non-null   datetime64[ns]\n",
      " 10  appVersion            73988 non-null   object        \n",
      "dtypes: datetime64[ns](2), int64(2), object(7)\n",
      "memory usage: 8.7+ MB\n"
     ]
    }
   ],
   "source": [
    "# Menampilkan informasi tentang DataFrame ulasan_tokopedia_df\n",
    "ulasan_tokopedia_df.info()"
   ]
  },
  {
   "cell_type": "markdown",
   "metadata": {},
   "source": [
    "## Data Cleaning"
   ]
  },
  {
   "cell_type": "code",
   "execution_count": 13,
   "metadata": {},
   "outputs": [
    {
     "name": "stderr",
     "output_type": "stream",
     "text": [
      "/tmp/ipykernel_7540/3327612356.py:4: SettingWithCopyWarning: \n",
      "A value is trying to be set on a copy of a slice from a DataFrame\n",
      "\n",
      "See the caveats in the documentation: https://pandas.pydata.org/pandas-docs/stable/user_guide/indexing.html#returning-a-view-versus-a-copy\n",
      "  data_bersih_df.drop(columns=['reviewId', 'userName', 'userImage', 'thumbsUpCount', 'reviewCreatedVersion', 'at','replyContent',  'repliedAt','appVersion'], inplace=True)\n"
     ]
    }
   ],
   "source": [
    "# Membuat DataFrame baru (data_bersih_df) dengan menghapus baris yang memiliki nilai yang hilang (NaN) dari app_reviews_df\n",
    "data_bersih_df = ulasan_tokopedia_df.dropna()\n",
    "# Corrected code to drop specified columns\n",
    "data_bersih_df.drop(columns=['reviewId', 'userName', 'userImage', 'thumbsUpCount', 'reviewCreatedVersion', 'at','replyContent',  'repliedAt','appVersion'], inplace=True)"
   ]
  },
  {
   "cell_type": "code",
   "execution_count": 14,
   "metadata": {},
   "outputs": [
    {
     "name": "stdout",
     "output_type": "stream",
     "text": [
      "<class 'pandas.core.frame.DataFrame'>\n",
      "Index: 46766 entries, 0 to 103499\n",
      "Data columns (total 2 columns):\n",
      " #   Column   Non-Null Count  Dtype \n",
      "---  ------   --------------  ----- \n",
      " 0   content  46766 non-null  object\n",
      " 1   score    46766 non-null  int64 \n",
      "dtypes: int64(1), object(1)\n",
      "memory usage: 1.1+ MB\n"
     ]
    }
   ],
   "source": [
    "# Menampilkan informasi tentang DataFrame data_bersih_df setelah membersihkan nilai yang hilang (NaN)\n",
    "data_bersih_df.info()"
   ]
  },
  {
   "cell_type": "code",
   "execution_count": 15,
   "metadata": {},
   "outputs": [],
   "source": [
    "# Simpan data ke CSV\n",
    "data_bersih_df.to_csv('tokopedia_review.csv', index=False, encoding='utf-8')"
   ]
  }
 ],
 "metadata": {
  "kernelspec": {
   "display_name": ".venv",
   "language": "python",
   "name": "python3"
  },
  "language_info": {
   "codemirror_mode": {
    "name": "ipython",
    "version": 3
   },
   "file_extension": ".py",
   "mimetype": "text/x-python",
   "name": "python",
   "nbconvert_exporter": "python",
   "pygments_lexer": "ipython3",
   "version": "3.12.1"
  }
 },
 "nbformat": 4,
 "nbformat_minor": 2
}
